{
 "cells": [
  {
   "cell_type": "markdown",
   "id": "4cf1ddff-cc26-42bb-bca5-80e9ecefbecf",
   "metadata": {},
   "source": [
    "# My Jupyter Notebook on IBM Watson Studio"
   ]
  },
  {
   "cell_type": "markdown",
   "id": "7fd6b728-fe00-40f6-aef0-e07b00cc9ac7",
   "metadata": {},
   "source": [
    "**Eunice**\n",
    "\n",
    "Student"
   ]
  },
  {
   "cell_type": "markdown",
   "id": "db0eb857-04a1-4722-9cb6-aad30d7b86d3",
   "metadata": {},
   "source": [
    "*I am interested in data science because it is a useful tool in lots of area and a necessary trend for the future.*"
   ]
  },
  {
   "cell_type": "markdown",
   "id": "4ce37559-f778-4e35-a96e-65a405fc86f3",
   "metadata": {},
   "source": [
    "### It's supposed to print out \"Hello World!\""
   ]
  },
  {
   "cell_type": "code",
   "execution_count": 2,
   "id": "0f38d064-a15a-42bf-8d60-559c7d48fdbd",
   "metadata": {},
   "outputs": [
    {
     "name": "stdout",
     "output_type": "stream",
     "text": [
      "Hello World!\n"
     ]
    }
   ],
   "source": [
    "print(\"Hello World!\")"
   ]
  },
  {
   "cell_type": "markdown",
   "id": "02172306-39ef-4a09-9f62-a2baffb0a050",
   "metadata": {},
   "source": [
    "[Strongly recommend this tool that can make your picture clearer!!!](https://www.google.com)\n",
    "\n",
    "---\n",
    "\n",
    "> It's really use to use\n",
    "\n"
   ]
  }
 ],
 "metadata": {
  "kernelspec": {
   "display_name": "Python",
   "language": "python",
   "name": "conda-env-python-py"
  },
  "language_info": {
   "codemirror_mode": {
    "name": "ipython",
    "version": 3
   },
   "file_extension": ".py",
   "mimetype": "text/x-python",
   "name": "python",
   "nbconvert_exporter": "python",
   "pygments_lexer": "ipython3",
   "version": "3.7.12"
  }
 },
 "nbformat": 4,
 "nbformat_minor": 5
}
